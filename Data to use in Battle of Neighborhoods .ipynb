{
    "cells": [
        {
            "cell_type": "markdown",
            "metadata": {},
            "source": "<center><h1>Data</h1></center>"
        },
        {
            "cell_type": "markdown",
            "metadata": {
                "collapsed": true
            },
            "source": "\n<p><u>1. For the first part of my projet</u> to explore he Hungarian population in North America, I use the following data:</p>\n<ul><li>\n<a href=\"https://factfinder.census.gov/faces/tableservices/jsf/pages/productview.xhtml?pid=ACS_10_1YR_DP02&prodType=table\">Hungarian population in the US: //factfinder.census.gov/faces/tableservices/jsf/pages/productview.xhtml?pid=ACS_10_1YR_DP02&prodType=table</a></li>\n<p><u>Please note: Although the American Community Survey (ACS) produces population, demographic and housing unit estimates, \nit is the Census Bureau's Population Estimates Program that produces and disseminates the official estimates of the population \nfor the nation, states, counties, cities, and towns and estimates of housing units for states and counties.</u></p>\n<ul><li><a href=\"https://web.archive.org/web/20131213043218/http://www.hhrf.org/restitution/hungariansintheus.htm\">Obserevation by states://web.archive.org/web/20131213043218/http://www.hhrf.org/restitution/hungariansintheus.htm</a></li>\n<li><a href='http://zipatlas.com/us/oh/zip-code-comparison/percentage-hungarian-population.htm'>Observation in cities of OH://zipatlas.com/us/oh/zip-code-comparison/percentage-hungarian-population.htm</a></li></ul>"
        },
        {
            "cell_type": "markdown",
            "metadata": {},
            "source": "<p>2. <u>For the second part of my project</u> \n    <ul><li>I am using the Four-Square API as its prime data gathering source to explore Cleveland , OH neighborhood.</li>\n<p> This API provides the ability to perform location search, location sharing and details about a business.</p>\n<li>Forming neighborhood clusters based on venue categories using unsupervised k-mean clustering algorithm ( sklearn)</li>\n    <li>Identifying and understanding which neighborhood should be the chosen one.</li>\n"
        },
        {
            "cell_type": "markdown",
            "metadata": {},
            "source": "<p><u>3. For the last part of my project</u> I rely on the 2019 Novel Coronavirus COVID-19 <a href=\"https://github.com/CSSEGISandData/COVID-19\"> Data Repository by Johns Hopkins CSSE://github.com/CSSEGISandData/COVID-19 </a>This is the data repository for the 2019 Novel Coronavirus Visual Dashboard operated by the Johns Hopkins University Center for Systems Science and Engineering (JHU CSSE). Also, Supported by ESRI Living Atlas Team and the Johns Hopkins University Applied Physics Lab (JHU APL).</p>These are the cvs file I am using: \n<ul>\n    <li>COVID19_open_line_list.csv</li>\n    <li>time_series_19-covid-Confirmed.csv</li>\n    </ul>\n    "
        },
        {
            "cell_type": "markdown",
            "metadata": {},
            "source": "<p>Python packages and Dependencies:</p>\n<ul>\n    <li>\tPandas \t- \tLibrary for Data Analysis</li>\n    <li>\tNumPy \t\u2013 \tLibrary to handle data in a vectorized manner</li>\n    <li>\tJSON \t\u2013 \tLibrary to handle JSON files</li>\n    <li>    Geopy\t\u2013 \tTo retrieve Location Data </li>\n    <li>    Requests \t\u2013 \tLibrary to handle http requests</li>\n    <li>    Matplotlib\t\u2013 \tPython Plotting Module</li>\n    <li>\tSklearn \t\u2013 \tPython machine learning Library</li>\n    <li>\tFolium \t\u2013 \tMap rendering Library</li>\n    </ul>\n\n"
        },
        {
            "cell_type": "code",
            "execution_count": null,
            "metadata": {},
            "outputs": [],
            "source": ""
        }
    ],
    "metadata": {
        "kernelspec": {
            "display_name": "Python 3.6",
            "language": "python",
            "name": "python3"
        },
        "language_info": {
            "codemirror_mode": {
                "name": "ipython",
                "version": 3
            },
            "file_extension": ".py",
            "mimetype": "text/x-python",
            "name": "python",
            "nbconvert_exporter": "python",
            "pygments_lexer": "ipython3",
            "version": "3.6.9"
        }
    },
    "nbformat": 4,
    "nbformat_minor": 1
}