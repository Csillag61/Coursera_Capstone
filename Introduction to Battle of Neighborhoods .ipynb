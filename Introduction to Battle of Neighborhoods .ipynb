{
    "cells": [
        {
            "cell_type": "markdown",
            "metadata": {
                "collapsed": true
            },
            "source": "<center><h1><bold>Battle of Neighborhoods Week2</bold></h1></center>"
        },
        {
            "cell_type": "markdown",
            "metadata": {},
            "source": "<center><h2><bold><u>Opening a Hungarian Restaurant In Cleveland, OH Neighborhoods</u></bold></h2></center>\n<center>\n<a href= \"https://github.com/Csillag61/Coursera_Capstone\">Link to my Github repository: //github.com/Csillag61/Coursera_Capstone</a></center>"
        },
        {
            "cell_type": "markdown",
            "metadata": {},
            "source": "<h3>Introduction</h3>\n\n<p>Large-scale Hungarian immigration to this county began more than 40 years ago. Cleveland, OH has been a focal point for thousands of Hungarian newcomers.\nThe influx of Hungarians was so great at times that Cleveland was considered the city with the second largest Hungarian population, after Budapest, the capital of Hungary.\nTheir number was 203,417 in 2010 and 183,593 in 2014.Most of the Hungarians live in Cuyahoga County, Ohio, where they make up 3.1% of the total population.</p><br>\n\n<p>Hungarian cuisine surely has some delights including hearty soups, stews and game dishes, simple but tasty casseroles and luscious cakes and pastries.  \n Hungarian cuisine is a synthesis of ancient Uralic components mixed with West Slavic, Balkan, Austrian, and German.  \n The food of Hungary can be considered a melting pot of the continent, with a culinary base formed from its own, original Magyar/Hungarian cuisine.</p> \n\n<p>Today we start to feel the effects of the deadly Wuhan virus outbrake. \nCoronaviruses are a large family of viruses which may cause illness in animals or humans. In humans, several coronaviruses are known to cause respiratory \ninfections ranging from the common cold to more severe diseases such as Middle East Respiratory Syndrome (MERS) and Severe Acute Respiratory Syndrome (SARS). \nThe most recently discovered coronavirus causes coronavirus disease COVID-19. \nWe will explore data to help us visualize and even predict the outcome that might or might not will influence our business decision to open or not to open a Hungarian \ncuisine restaurant in the near future, so everyone of us can enjoy our world famoust dishes.</p>\n\n<p>It is true, a great Hungarian invented the Rubik cubes and every good Hungarian has one, but the majority including myself can\u2019t solve it. \n    \n    This project is aiming to solve the burning problem:\n\u2022\tIs still out there a living Hungarian neighborhood today?\n\u2022\tIs today the right time open a restaurant so everyone of us can enjoy it\u2019s famous dishes?</p>\n"
        },
        {
            "cell_type": "code",
            "execution_count": null,
            "metadata": {},
            "outputs": [],
            "source": ""
        }
    ],
    "metadata": {
        "kernelspec": {
            "display_name": "Python 3.6",
            "language": "python",
            "name": "python3"
        },
        "language_info": {
            "codemirror_mode": {
                "name": "ipython",
                "version": 3
            },
            "file_extension": ".py",
            "mimetype": "text/x-python",
            "name": "python",
            "nbconvert_exporter": "python",
            "pygments_lexer": "ipython3",
            "version": "3.6.9"
        }
    },
    "nbformat": 4,
    "nbformat_minor": 1
}